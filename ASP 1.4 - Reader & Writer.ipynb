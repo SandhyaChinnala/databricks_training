{
 "cells": [
  {
   "cell_type": "markdown",
   "metadata": {
    "application/vnd.databricks.v1+cell": {
     "cellMetadata": {},
     "inputWidgets": {},
     "nuid": "d7198fec-059c-4b09-93c0-73316e54cd10",
     "showTitle": false,
     "title": ""
    }
   },
   "source": [
    "-sandbox\n",
    "\n",
    "<div style=\"text-align: center; line-height: 0; padding-top: 9px;\">\n",
    "  <img src=\"https://databricks.com/wp-content/uploads/2018/03/db-academy-rgb-1200px.png\" alt=\"Databricks Learning\" style=\"width: 600px\">\n",
    "</div>"
   ]
  },
  {
   "cell_type": "markdown",
   "metadata": {
    "application/vnd.databricks.v1+cell": {
     "cellMetadata": {},
     "inputWidgets": {},
     "nuid": "2f5270fe-3a17-43ce-8f19-4c646c0f81d5",
     "showTitle": false,
     "title": ""
    }
   },
   "source": [
    "# Reader & Writer\n",
    "##### Objectives\n",
    "1. Read from CSV files\n",
    "1. Read from JSON files\n",
    "1. Write DataFrame to files\n",
    "1. Write DataFrame to tables\n",
    "1. Write DataFrame to a Delta table\n",
    "\n",
    "##### Methods\n",
    "- <a href=\"https://spark.apache.org/docs/latest/api/python/reference/pyspark.sql.html#input-and-output\" target=\"_blank\">DataFrameReader</a>: `csv`, `json`, `option`, `schema`\n",
    "- <a href=\"https://spark.apache.org/docs/latest/api/python/reference/pyspark.sql.html#input-and-output\" target=\"_blank\">DataFrameWriter</a>: `mode`, `option`, `parquet`, `format`, `saveAsTable`\n",
    "- <a href=\"https://spark.apache.org/docs/latest/api/python/reference/api/pyspark.sql.types.StructType.html#pyspark.sql.types.StructType\" target=\"_blank\">StructType</a>: `toDDL`\n",
    "\n",
    "##### Spark Types\n",
    "- <a href=\"https://spark.apache.org/docs/latest/api/python/reference/pyspark.sql.html#data-types\" target=\"_blank\">Types</a>: `ArrayType`, `DoubleType`, `IntegerType`, `LongType`, `StringType`, `StructType`, `StructField`"
   ]
  },
  {
   "cell_type": "code",
   "execution_count": 0,
   "metadata": {
    "application/vnd.databricks.v1+cell": {
     "cellMetadata": {
      "byteLimit": 2048000,
      "rowLimit": 10000
     },
     "inputWidgets": {},
     "nuid": "679431bc-1721-483a-9a3a-f1262f42c04c",
     "showTitle": false,
     "title": ""
    }
   },
   "outputs": [
    {
     "output_type": "display_data",
     "data": {
      "text/html": [
       ""
      ]
     },
     "metadata": {
      "application/vnd.databricks.v1+output": {
       "addedWidgets": {},
       "arguments": {},
       "data": "",
       "datasetInfos": [],
       "metadata": {
        "isDbfsCommandResult": false
       },
       "removedWidgets": [],
       "textData": null,
       "type": "htmlSandbox"
      }
     },
     "output_type": "display_data"
    },
    {
     "output_type": "display_data",
     "data": {
      "text/html": [
       "Finished setting up utiltity methods..."
      ]
     },
     "metadata": {
      "application/vnd.databricks.v1+output": {
       "addedWidgets": {},
       "arguments": {},
       "data": "Finished setting up utiltity methods...",
       "datasetInfos": [],
       "metadata": {
        "isDbfsCommandResult": false
       },
       "removedWidgets": [],
       "textData": null,
       "type": "htmlSandbox"
      }
     },
     "output_type": "display_data"
    },
    {
     "output_type": "display_data",
     "data": {
      "text/html": [
       "Datasets mounted and student environment set up"
      ]
     },
     "metadata": {
      "application/vnd.databricks.v1+output": {
       "addedWidgets": {},
       "arguments": {},
       "data": "Datasets mounted and student environment set up",
       "datasetInfos": [],
       "metadata": {
        "isDbfsCommandResult": false
       },
       "removedWidgets": [],
       "textData": null,
       "type": "htmlSandbox"
      }
     },
     "output_type": "display_data"
    }
   ],
   "source": [
    "%run ./Includes/Classroom-Setup"
   ]
  },
  {
   "cell_type": "markdown",
   "metadata": {
    "application/vnd.databricks.v1+cell": {
     "cellMetadata": {},
     "inputWidgets": {},
     "nuid": "6b80a67b-f6a4-4b1d-8293-04ad41425b94",
     "showTitle": false,
     "title": ""
    }
   },
   "source": [
    "## DataFrameReader\n",
    "Interface used to load a DataFrame from external storage systems\n",
    "\n",
    "```\n",
    "spark.read.parquet(\"path/to/files\")\n",
    "```\n",
    "\n",
    "DataFrameReader is accessible through the SparkSession attribute `read`. This class includes methods to load DataFrames from different external storage systems."
   ]
  },
  {
   "cell_type": "markdown",
   "metadata": {
    "application/vnd.databricks.v1+cell": {
     "cellMetadata": {},
     "inputWidgets": {},
     "nuid": "27a0bf06-f52d-4c32-812f-9cf3cfd27def",
     "showTitle": false,
     "title": ""
    }
   },
   "source": [
    "### Read from CSV files\n",
    "Read from CSV with the DataFrameReader's `csv` method and the following options:\n",
    "\n",
    "Tab separator, use first line as header, infer schema"
   ]
  },
  {
   "cell_type": "code",
   "execution_count": 0,
   "metadata": {
    "application/vnd.databricks.v1+cell": {
     "cellMetadata": {
      "byteLimit": 2048000,
      "rowLimit": 10000
     },
     "inputWidgets": {},
     "nuid": "7d7c2805-0e09-4558-8c17-609a34a12166",
     "showTitle": false,
     "title": ""
    }
   },
   "outputs": [
    {
     "output_type": "stream",
     "name": "stdout",
     "output_type": "stream",
     "text": [
      "root\n |-- user_id: string (nullable = true)\n |-- user_first_touch_timestamp: long (nullable = true)\n |-- email: string (nullable = true)\n\n"
     ]
    }
   ],
   "source": [
    "usersCsvPath = \"/mnt/training/ecommerce/users/users-500k.csv\"\n",
    "\n",
    "usersDF = (spark\n",
    "           .read\n",
    "           .option(\"sep\", \"\\t\")\n",
    "           .option(\"header\", True)\n",
    "           .option(\"inferSchema\", True)\n",
    "           .csv(usersCsvPath)\n",
    "          )\n",
    "\n",
    "usersDF.printSchema()"
   ]
  },
  {
   "cell_type": "markdown",
   "metadata": {
    "application/vnd.databricks.v1+cell": {
     "cellMetadata": {},
     "inputWidgets": {},
     "nuid": "e53f1add-b609-40fc-a427-3c5c48a1148d",
     "showTitle": false,
     "title": ""
    }
   },
   "source": [
    "Spark's Python API also allows you to specify the DataFrameReader options as parameters to the `csv` method"
   ]
  },
  {
   "cell_type": "code",
   "execution_count": 0,
   "metadata": {
    "application/vnd.databricks.v1+cell": {
     "cellMetadata": {
      "byteLimit": 2048000,
      "rowLimit": 10000
     },
     "inputWidgets": {},
     "nuid": "0b6ed3f1-8945-4fbc-86e4-887f46d9a196",
     "showTitle": false,
     "title": ""
    }
   },
   "outputs": [
    {
     "output_type": "stream",
     "name": "stdout",
     "output_type": "stream",
     "text": [
      "root\n |-- user_id: string (nullable = true)\n |-- user_first_touch_timestamp: long (nullable = true)\n |-- email: string (nullable = true)\n\n"
     ]
    }
   ],
   "source": [
    "usersCsvPath = \"/mnt/training/ecommerce/users/users-500k.csv\"\n",
    "\n",
    "usersDF = (spark\n",
    "           .read\n",
    "           .csv(usersCsvPath, sep=\"\\t\", header=True, inferSchema=True)\n",
    "          )\n",
    "\n",
    "usersDF.printSchema()"
   ]
  },
  {
   "cell_type": "markdown",
   "metadata": {
    "application/vnd.databricks.v1+cell": {
     "cellMetadata": {},
     "inputWidgets": {},
     "nuid": "3c220657-0789-4a8a-95dd-a0534627d772",
     "showTitle": false,
     "title": ""
    }
   },
   "source": [
    "Manually define the schema by creating a `StructType` with column names and data types"
   ]
  },
  {
   "cell_type": "code",
   "execution_count": 0,
   "metadata": {
    "application/vnd.databricks.v1+cell": {
     "cellMetadata": {
      "byteLimit": 2048000,
      "rowLimit": 10000
     },
     "inputWidgets": {},
     "nuid": "ddddcd65-6834-40cc-b7ea-7fa4f7eb97d2",
     "showTitle": false,
     "title": ""
    }
   },
   "outputs": [],
   "source": [
    "from pyspark.sql.types import LongType, StringType, StructType, StructField\n",
    "\n",
    "userDefinedSchema = StructType([\n",
    "    StructField(\"user_id\", StringType(), True),\n",
    "    StructField(\"user_first_touch_timestamp\", LongType(), True),\n",
    "    StructField(\"email\", StringType(), True)\n",
    "])"
   ]
  },
  {
   "cell_type": "markdown",
   "metadata": {
    "application/vnd.databricks.v1+cell": {
     "cellMetadata": {},
     "inputWidgets": {},
     "nuid": "4692f5c4-9c9e-41bb-8c6e-a45a96114001",
     "showTitle": false,
     "title": ""
    }
   },
   "source": [
    "Read from CSV using this user-defined schema instead of inferring the schema"
   ]
  },
  {
   "cell_type": "code",
   "execution_count": 0,
   "metadata": {
    "application/vnd.databricks.v1+cell": {
     "cellMetadata": {
      "byteLimit": 2048000,
      "rowLimit": 10000
     },
     "inputWidgets": {},
     "nuid": "0c178102-5a1f-4951-aa40-e92e418ce2ad",
     "showTitle": false,
     "title": ""
    }
   },
   "outputs": [],
   "source": [
    "usersCsvPath = \"/mnt/training/ecommerce/users/users-500k.csv\"\n",
    "usersDF = (spark\n",
    "           .read\n",
    "           .option(\"sep\", \"\\t\")\n",
    "           .option(\"header\", True)\n",
    "           .schema(userDefinedSchema)\n",
    "           .csv(usersCsvPath)\n",
    "          )"
   ]
  },
  {
   "cell_type": "markdown",
   "metadata": {
    "application/vnd.databricks.v1+cell": {
     "cellMetadata": {},
     "inputWidgets": {},
     "nuid": "6a4fc14f-48e4-4522-8089-2f1019cfba79",
     "showTitle": false,
     "title": ""
    }
   },
   "source": [
    "Alternatively, define the schema using <a href=\"https://en.wikipedia.org/wiki/Data_definition_language\" target=\"_blank\">data definition language (DDL)</a> syntax."
   ]
  },
  {
   "cell_type": "code",
   "execution_count": 0,
   "metadata": {
    "application/vnd.databricks.v1+cell": {
     "cellMetadata": {},
     "inputWidgets": {},
     "nuid": "9480bb73-39ce-4a1b-a1a5-6e35d05b08f7",
     "showTitle": false,
     "title": ""
    }
   },
   "outputs": [],
   "source": [
    "DDLSchema = \"user_id string, user_first_touch_timestamp long, email string\"\n",
    "\n",
    "usersDF = (spark\n",
    "           .read\n",
    "           .option(\"sep\", \"\\t\")\n",
    "           .option(\"header\", True)\n",
    "           .schema(DDLSchema)\n",
    "           .csv(usersCsvPath)\n",
    "          )"
   ]
  },
  {
   "cell_type": "markdown",
   "metadata": {
    "application/vnd.databricks.v1+cell": {
     "cellMetadata": {},
     "inputWidgets": {},
     "nuid": "010057d9-6a6b-4dbc-af2b-4423cf375d31",
     "showTitle": false,
     "title": ""
    }
   },
   "source": [
    "### Read from JSON files\n",
    "\n",
    "Read from JSON with DataFrameReader's `json` method and the infer schema option"
   ]
  },
  {
   "cell_type": "code",
   "execution_count": 0,
   "metadata": {
    "application/vnd.databricks.v1+cell": {
     "cellMetadata": {
      "byteLimit": 2048000,
      "rowLimit": 10000
     },
     "inputWidgets": {},
     "nuid": "24f75fb6-2713-4f38-93d5-9d58b5baba0c",
     "showTitle": false,
     "title": ""
    }
   },
   "outputs": [
    {
     "output_type": "stream",
     "name": "stdout",
     "output_type": "stream",
     "text": [
      "root\n |-- device: string (nullable = true)\n |-- ecommerce: struct (nullable = true)\n |    |-- purchase_revenue_in_usd: double (nullable = true)\n |    |-- total_item_quantity: long (nullable = true)\n |    |-- unique_items: long (nullable = true)\n |-- event_name: string (nullable = true)\n |-- event_previous_timestamp: long (nullable = true)\n |-- event_timestamp: long (nullable = true)\n |-- geo: struct (nullable = true)\n |    |-- city: string (nullable = true)\n |    |-- state: string (nullable = true)\n |-- items: array (nullable = true)\n |    |-- element: struct (containsNull = true)\n |    |    |-- coupon: string (nullable = true)\n |    |    |-- item_id: string (nullable = true)\n |    |    |-- item_name: string (nullable = true)\n |    |    |-- item_revenue_in_usd: double (nullable = true)\n |    |    |-- price_in_usd: double (nullable = true)\n |    |    |-- quantity: long (nullable = true)\n |-- traffic_source: string (nullable = true)\n |-- user_first_touch_timestamp: long (nullable = true)\n |-- user_id: string (nullable = true)\n\n"
     ]
    }
   ],
   "source": [
    "eventsJsonPath = \"/mnt/training/ecommerce/events/events-500k.json\"\n",
    "\n",
    "eventsDF = (spark\n",
    "            .read\n",
    "            .option(\"inferSchema\", True)\n",
    "            .json(eventsJsonPath)\n",
    "           )\n",
    "\n",
    "eventsDF.printSchema()"
   ]
  },
  {
   "cell_type": "markdown",
   "metadata": {
    "application/vnd.databricks.v1+cell": {
     "cellMetadata": {},
     "inputWidgets": {},
     "nuid": "8cd12502-592a-4e51-acce-6e5e6116e5c4",
     "showTitle": false,
     "title": ""
    }
   },
   "source": [
    "Read data faster by creating a `StructType` with the schema names and data types"
   ]
  },
  {
   "cell_type": "code",
   "execution_count": 0,
   "metadata": {
    "application/vnd.databricks.v1+cell": {
     "cellMetadata": {
      "byteLimit": 2048000,
      "rowLimit": 10000
     },
     "inputWidgets": {},
     "nuid": "8f6e6af1-ed54-4646-bda1-ea1d352bfa31",
     "showTitle": false,
     "title": ""
    }
   },
   "outputs": [],
   "source": [
    "from pyspark.sql.types import ArrayType, DoubleType, IntegerType, LongType, StringType, StructType, StructField\n",
    "\n",
    "userDefinedSchema = StructType([\n",
    "    StructField(\"device\", StringType(), True),\n",
    "    StructField(\"ecommerce\", StructType([\n",
    "        StructField(\"purchaseRevenue\", DoubleType(), True),\n",
    "        StructField(\"total_item_quantity\", LongType(), True),\n",
    "        StructField(\"unique_items\", LongType(), True)\n",
    "    ]), True),\n",
    "    StructField(\"event_name\", StringType(), True),\n",
    "    StructField(\"event_previous_timestamp\", LongType(), True),\n",
    "    StructField(\"event_timestamp\", LongType(), True),\n",
    "    StructField(\"geo\", StructType([\n",
    "        StructField(\"city\", StringType(), True),\n",
    "        StructField(\"state\", StringType(), True)\n",
    "    ]), True),\n",
    "    StructField(\"items\", ArrayType(\n",
    "        StructType([\n",
    "            StructField(\"coupon\", StringType(), True),\n",
    "            StructField(\"item_id\", StringType(), True),\n",
    "            StructField(\"item_name\", StringType(), True),\n",
    "            StructField(\"item_revenue_in_usd\", DoubleType(), True),\n",
    "            StructField(\"price_in_usd\", DoubleType(), True),\n",
    "            StructField(\"quantity\", LongType(), True)\n",
    "        ])\n",
    "    ), True),\n",
    "    StructField(\"traffic_source\", StringType(), True),\n",
    "    StructField(\"user_first_touch_timestamp\", LongType(), True),\n",
    "    StructField(\"user_id\", StringType(), True)\n",
    "])\n",
    "\n",
    "eventsDF = (spark\n",
    "            .read\n",
    "            .schema(userDefinedSchema)\n",
    "            .json(eventsJsonPath)\n",
    "           )"
   ]
  },
  {
   "cell_type": "markdown",
   "metadata": {
    "application/vnd.databricks.v1+cell": {
     "cellMetadata": {},
     "inputWidgets": {},
     "nuid": "d7c185d5-53f7-4b7f-9667-6541aacec959",
     "showTitle": false,
     "title": ""
    }
   },
   "source": [
    "You can use the `StructType` Scala method `toDDL` to have a DDL-formatted string created for you.\n",
    "\n",
    "In a Python notebook, create a Scala cell to create the string to copy and paste."
   ]
  },
  {
   "cell_type": "code",
   "execution_count": 0,
   "metadata": {
    "application/vnd.databricks.v1+cell": {
     "cellMetadata": {},
     "inputWidgets": {},
     "nuid": "578ccad1-1725-40fa-9363-bc24eea7551b",
     "showTitle": false,
     "title": ""
    }
   },
   "outputs": [],
   "source": [
    "%scala\n",
    "spark.read.parquet(\"/mnt/training/ecommerce/events/events.parquet\").schema.toDDL"
   ]
  },
  {
   "cell_type": "code",
   "execution_count": 0,
   "metadata": {
    "application/vnd.databricks.v1+cell": {
     "cellMetadata": {},
     "inputWidgets": {},
     "nuid": "9eaaa7b9-133e-42bc-9eec-1fffab91e897",
     "showTitle": false,
     "title": ""
    }
   },
   "outputs": [],
   "source": [
    "DDLSchema = \"`device` STRING,`ecommerce` STRUCT<`purchase_revenue_in_usd`: DOUBLE, `total_item_quantity`: BIGINT, `unique_items`: BIGINT>,`event_name` STRING,`event_previous_timestamp` BIGINT,`event_timestamp` BIGINT,`geo` STRUCT<`city`: STRING, `state`: STRING>,`items` ARRAY<STRUCT<`coupon`: STRING, `item_id`: STRING, `item_name`: STRING, `item_revenue_in_usd`: DOUBLE, `price_in_usd`: DOUBLE, `quantity`: BIGINT>>,`traffic_source` STRING,`user_first_touch_timestamp` BIGINT,`user_id` STRING\"\n",
    "\n",
    "eventsDF = (spark\n",
    "            .read\n",
    "            .schema(DDLSchema)\n",
    "            .json(eventsJsonPath)\n",
    "           )"
   ]
  },
  {
   "cell_type": "markdown",
   "metadata": {
    "application/vnd.databricks.v1+cell": {
     "cellMetadata": {},
     "inputWidgets": {},
     "nuid": "723e02a2-48e0-453a-8d61-0f415efb9e58",
     "showTitle": false,
     "title": ""
    }
   },
   "source": [
    "## DataFrameWriter\n",
    "Interface used to write a DataFrame to external storage systems\n",
    "\n",
    "```\n",
    "(df.write                         \n",
    "  .option(\"compression\", \"snappy\")\n",
    "  .mode(\"overwrite\")      \n",
    "  .parquet(outPath)       \n",
    ")\n",
    "```\n",
    "\n",
    "DataFrameWriter is accessible through the SparkSession attribute `write`. This class includes methods to write DataFrames to different external storage systems."
   ]
  },
  {
   "cell_type": "markdown",
   "metadata": {
    "application/vnd.databricks.v1+cell": {
     "cellMetadata": {},
     "inputWidgets": {},
     "nuid": "2206712d-ec0b-4d75-aaf4-2ee91b8e65d4",
     "showTitle": false,
     "title": ""
    }
   },
   "source": [
    "### Write DataFrames to files\n",
    "\n",
    "Write `usersDF` to parquet with DataFrameWriter's `parquet` method and the following configurations:\n",
    "\n",
    "Snappy compression, overwrite mode"
   ]
  },
  {
   "cell_type": "code",
   "execution_count": 0,
   "metadata": {
    "application/vnd.databricks.v1+cell": {
     "cellMetadata": {
      "byteLimit": 2048000,
      "rowLimit": 10000
     },
     "inputWidgets": {},
     "nuid": "c97bd187-5cfc-4928-9390-84ca62e07529",
     "showTitle": false,
     "title": ""
    }
   },
   "outputs": [],
   "source": [
    "usersOutputPath = workingDir + \"/users.parquet\"\n",
    "\n",
    "(usersDF\n",
    " .write\n",
    " .option(\"compression\", \"snappy\")\n",
    " .mode(\"overwrite\")\n",
    " .parquet(usersOutputPath)\n",
    ")"
   ]
  },
  {
   "cell_type": "code",
   "execution_count": 0,
   "metadata": {
    "application/vnd.databricks.v1+cell": {
     "cellMetadata": {
      "byteLimit": 2048000,
      "rowLimit": 10000
     },
     "inputWidgets": {},
     "nuid": "513657f0-7a1e-4d91-ab65-eb5800cf3ab1",
     "showTitle": false,
     "title": ""
    }
   },
   "outputs": [
    {
     "output_type": "display_data",
     "data": {
      "text/html": [
       "<style scoped>\n",
       "  .table-result-container {\n",
       "    max-height: 300px;\n",
       "    overflow: auto;\n",
       "  }\n",
       "  table, th, td {\n",
       "    border: 1px solid black;\n",
       "    border-collapse: collapse;\n",
       "  }\n",
       "  th, td {\n",
       "    padding: 5px;\n",
       "  }\n",
       "  th {\n",
       "    text-align: left;\n",
       "  }\n",
       "</style><div class='table-result-container'><table class='table-result'><thead style='background-color: white'><tr><th>path</th><th>name</th><th>size</th><th>modificationTime</th></tr></thead><tbody><tr><td>dbfs:/user/sandhyarani.chinnala@celebaltech.com/dbacademy/spark_programming/asp_1_4_reader_writer/users.parquet/_SUCCESS</td><td>_SUCCESS</td><td>0</td><td>1688119636000</td></tr><tr><td>dbfs:/user/sandhyarani.chinnala@celebaltech.com/dbacademy/spark_programming/asp_1_4_reader_writer/users.parquet/_committed_2308555562793995935</td><td>_committed_2308555562793995935</td><td>424</td><td>1688119635000</td></tr><tr><td>dbfs:/user/sandhyarani.chinnala@celebaltech.com/dbacademy/spark_programming/asp_1_4_reader_writer/users.parquet/_started_2308555562793995935</td><td>_started_2308555562793995935</td><td>0</td><td>1688119634000</td></tr><tr><td>dbfs:/user/sandhyarani.chinnala@celebaltech.com/dbacademy/spark_programming/asp_1_4_reader_writer/users.parquet/part-00000-tid-2308555562793995935-22c05678-55d0-4c9a-b0ab-ddc5ae04aed9-262-1-c000.snappy.parquet</td><td>part-00000-tid-2308555562793995935-22c05678-55d0-4c9a-b0ab-ddc5ae04aed9-262-1-c000.snappy.parquet</td><td>2075044</td><td>1688119635000</td></tr><tr><td>dbfs:/user/sandhyarani.chinnala@celebaltech.com/dbacademy/spark_programming/asp_1_4_reader_writer/users.parquet/part-00001-tid-2308555562793995935-22c05678-55d0-4c9a-b0ab-ddc5ae04aed9-263-1-c000.snappy.parquet</td><td>part-00001-tid-2308555562793995935-22c05678-55d0-4c9a-b0ab-ddc5ae04aed9-263-1-c000.snappy.parquet</td><td>2074022</td><td>1688119635000</td></tr><tr><td>dbfs:/user/sandhyarani.chinnala@celebaltech.com/dbacademy/spark_programming/asp_1_4_reader_writer/users.parquet/part-00002-tid-2308555562793995935-22c05678-55d0-4c9a-b0ab-ddc5ae04aed9-264-1-c000.snappy.parquet</td><td>part-00002-tid-2308555562793995935-22c05678-55d0-4c9a-b0ab-ddc5ae04aed9-264-1-c000.snappy.parquet</td><td>2074427</td><td>1688119635000</td></tr><tr><td>dbfs:/user/sandhyarani.chinnala@celebaltech.com/dbacademy/spark_programming/asp_1_4_reader_writer/users.parquet/part-00003-tid-2308555562793995935-22c05678-55d0-4c9a-b0ab-ddc5ae04aed9-265-1-c000.snappy.parquet</td><td>part-00003-tid-2308555562793995935-22c05678-55d0-4c9a-b0ab-ddc5ae04aed9-265-1-c000.snappy.parquet</td><td>672136</td><td>1688119635000</td></tr></tbody></table></div>"
      ]
     },
     "metadata": {
      "application/vnd.databricks.v1+output": {
       "addedWidgets": {},
       "aggData": [],
       "aggError": "",
       "aggOverflow": false,
       "aggSchema": [],
       "aggSeriesLimitReached": false,
       "aggType": "",
       "arguments": {},
       "columnCustomDisplayInfos": {},
       "data": [
        [
         "dbfs:/user/sandhyarani.chinnala@celebaltech.com/dbacademy/spark_programming/asp_1_4_reader_writer/users.parquet/_SUCCESS",
         "_SUCCESS",
         0,
         1688119636000
        ],
        [
         "dbfs:/user/sandhyarani.chinnala@celebaltech.com/dbacademy/spark_programming/asp_1_4_reader_writer/users.parquet/_committed_2308555562793995935",
         "_committed_2308555562793995935",
         424,
         1688119635000
        ],
        [
         "dbfs:/user/sandhyarani.chinnala@celebaltech.com/dbacademy/spark_programming/asp_1_4_reader_writer/users.parquet/_started_2308555562793995935",
         "_started_2308555562793995935",
         0,
         1688119634000
        ],
        [
         "dbfs:/user/sandhyarani.chinnala@celebaltech.com/dbacademy/spark_programming/asp_1_4_reader_writer/users.parquet/part-00000-tid-2308555562793995935-22c05678-55d0-4c9a-b0ab-ddc5ae04aed9-262-1-c000.snappy.parquet",
         "part-00000-tid-2308555562793995935-22c05678-55d0-4c9a-b0ab-ddc5ae04aed9-262-1-c000.snappy.parquet",
         2075044,
         1688119635000
        ],
        [
         "dbfs:/user/sandhyarani.chinnala@celebaltech.com/dbacademy/spark_programming/asp_1_4_reader_writer/users.parquet/part-00001-tid-2308555562793995935-22c05678-55d0-4c9a-b0ab-ddc5ae04aed9-263-1-c000.snappy.parquet",
         "part-00001-tid-2308555562793995935-22c05678-55d0-4c9a-b0ab-ddc5ae04aed9-263-1-c000.snappy.parquet",
         2074022,
         1688119635000
        ],
        [
         "dbfs:/user/sandhyarani.chinnala@celebaltech.com/dbacademy/spark_programming/asp_1_4_reader_writer/users.parquet/part-00002-tid-2308555562793995935-22c05678-55d0-4c9a-b0ab-ddc5ae04aed9-264-1-c000.snappy.parquet",
         "part-00002-tid-2308555562793995935-22c05678-55d0-4c9a-b0ab-ddc5ae04aed9-264-1-c000.snappy.parquet",
         2074427,
         1688119635000
        ],
        [
         "dbfs:/user/sandhyarani.chinnala@celebaltech.com/dbacademy/spark_programming/asp_1_4_reader_writer/users.parquet/part-00003-tid-2308555562793995935-22c05678-55d0-4c9a-b0ab-ddc5ae04aed9-265-1-c000.snappy.parquet",
         "part-00003-tid-2308555562793995935-22c05678-55d0-4c9a-b0ab-ddc5ae04aed9-265-1-c000.snappy.parquet",
         672136,
         1688119635000
        ]
       ],
       "datasetInfos": [],
       "dbfsResultPath": null,
       "isJsonSchema": true,
       "metadata": {},
       "overflow": false,
       "plotOptions": {
        "customPlotOptions": {},
        "displayType": "table",
        "pivotAggregation": null,
        "pivotColumns": [],
        "xColumns": [],
        "yColumns": []
       },
       "removedWidgets": [],
       "schema": [
        {
         "metadata": "{}",
         "name": "path",
         "type": "\"string\""
        },
        {
         "metadata": "{}",
         "name": "name",
         "type": "\"string\""
        },
        {
         "metadata": "{}",
         "name": "size",
         "type": "\"long\""
        },
        {
         "metadata": "{}",
         "name": "modificationTime",
         "type": "\"long\""
        }
       ],
       "type": "table"
      }
     },
     "output_type": "display_data"
    }
   ],
   "source": [
    "display(\n",
    "    dbutils.fs.ls(usersOutputPath)\n",
    ")"
   ]
  },
  {
   "cell_type": "markdown",
   "metadata": {
    "application/vnd.databricks.v1+cell": {
     "cellMetadata": {},
     "inputWidgets": {},
     "nuid": "06a67ff8-f6d8-43fb-b90f-77fa589a2d6e",
     "showTitle": false,
     "title": ""
    }
   },
   "source": [
    "As with DataFrameReader, Spark's Python API also allows you to specify the DataFrameWriter options as parameters to the `parquet` method"
   ]
  },
  {
   "cell_type": "code",
   "execution_count": 0,
   "metadata": {
    "application/vnd.databricks.v1+cell": {
     "cellMetadata": {},
     "inputWidgets": {},
     "nuid": "27d1af41-d10c-4978-8777-0eb575a17f7e",
     "showTitle": false,
     "title": ""
    }
   },
   "outputs": [],
   "source": [
    "(usersDF\n",
    " .write\n",
    " .parquet(usersOutputPath, compression=\"snappy\", mode=\"overwrite\")\n",
    ")"
   ]
  },
  {
   "cell_type": "markdown",
   "metadata": {
    "application/vnd.databricks.v1+cell": {
     "cellMetadata": {},
     "inputWidgets": {},
     "nuid": "405f864d-b10c-4fa9-bbbc-204aa0d0a1c0",
     "showTitle": false,
     "title": ""
    }
   },
   "source": [
    "### Write DataFrames to tables\n",
    "\n",
    "Write `eventsDF` to a table using the DataFrameWriter method `saveAsTable`\n",
    "\n",
    "<img src=\"https://files.training.databricks.com/images/icon_note_32.png\" alt=\"Note\"> This creates a global table, unlike the local view created by the DataFrame method `createOrReplaceTempView`"
   ]
  },
  {
   "cell_type": "code",
   "execution_count": 0,
   "metadata": {
    "application/vnd.databricks.v1+cell": {
     "cellMetadata": {
      "byteLimit": 2048000,
      "rowLimit": 10000
     },
     "inputWidgets": {},
     "nuid": "4b9a6c1b-89b6-446a-a452-3b4f44afee60",
     "showTitle": false,
     "title": ""
    }
   },
   "outputs": [],
   "source": [
    "eventsDF.write.mode(\"overwrite\").option(\"mergeSchema\", \"true\").saveAsTable(\"events_p\")"
   ]
  },
  {
   "cell_type": "markdown",
   "metadata": {
    "application/vnd.databricks.v1+cell": {
     "cellMetadata": {},
     "inputWidgets": {},
     "nuid": "81bf9109-af1b-42ca-8b92-6f6883f6ae85",
     "showTitle": false,
     "title": ""
    }
   },
   "source": [
    "This table was saved in the database created for you in classroom setup. See database name printed below."
   ]
  },
  {
   "cell_type": "code",
   "execution_count": 0,
   "metadata": {
    "application/vnd.databricks.v1+cell": {
     "cellMetadata": {
      "byteLimit": 2048000,
      "rowLimit": 10000
     },
     "inputWidgets": {},
     "nuid": "4df70cea-3463-491c-8fb9-a4fa43ce8a85",
     "showTitle": false,
     "title": ""
    }
   },
   "outputs": [
    {
     "output_type": "stream",
     "name": "stdout",
     "output_type": "stream",
     "text": [
      "dbacademy_sandhyarani_chinnala_celebaltech_com_spark_programming_asp_1_4_reader_writer\n"
     ]
    }
   ],
   "source": [
    "print(databaseName)"
   ]
  },
  {
   "cell_type": "markdown",
   "metadata": {
    "application/vnd.databricks.v1+cell": {
     "cellMetadata": {},
     "inputWidgets": {},
     "nuid": "f8bc6b06-8d55-42dd-9f1b-e8063bf8102a",
     "showTitle": false,
     "title": ""
    }
   },
   "source": [
    "## Delta Lake\n",
    "\n",
    "In almost all cases, the best practice is to use Delta Lake format, especially whenever the data will be referenced from a Databricks workspace. \n",
    "\n",
    "<a href=\"https://delta.io/\" target=\"_blank\">Delta Lake</a> is an open source technology designed to work with Spark to bring reliability to data lakes.\n",
    "\n",
    "![delta](https://files.training.databricks.com/images/aspwd/delta_storage_layer.png)\n",
    "\n",
    "#### Delta Lake's Key Features\n",
    "- ACID transactions\n",
    "- Scalable metadata handline\n",
    "- Unified streaming and batch processing\n",
    "- Time travel (data versioning)\n",
    "- Schema enforcement and evolution\n",
    "- Audit history\n",
    "- Parquet format\n",
    "- Compatible with Apache Spark API"
   ]
  },
  {
   "cell_type": "markdown",
   "metadata": {
    "application/vnd.databricks.v1+cell": {
     "cellMetadata": {},
     "inputWidgets": {},
     "nuid": "737bac08-89f6-4f81-b8a2-c51a779d843a",
     "showTitle": false,
     "title": ""
    }
   },
   "source": [
    "### Write Results to a Delta Table\n",
    "\n",
    "Write `eventsDF` with the DataFrameWriter's `save` method and the following configurations: Delta format, overwrite mode"
   ]
  },
  {
   "cell_type": "code",
   "execution_count": 0,
   "metadata": {
    "application/vnd.databricks.v1+cell": {
     "cellMetadata": {
      "byteLimit": 2048000,
      "rowLimit": 10000
     },
     "inputWidgets": {},
     "nuid": "dd6ed12d-5dff-4c44-893b-c52568fd2fc9",
     "showTitle": false,
     "title": ""
    }
   },
   "outputs": [],
   "source": [
    "eventsOutputPath = workingDir + \"/delta/events\"\n",
    "\n",
    "(eventsDF\n",
    " .write\n",
    " .format(\"delta\")\n",
    " .mode(\"overwrite\")\n",
    " .save(eventsOutputPath)\n",
    ")"
   ]
  },
  {
   "cell_type": "code",
   "execution_count": 0,
   "metadata": {
    "application/vnd.databricks.v1+cell": {
     "cellMetadata": {
      "byteLimit": 2048000,
      "rowLimit": 10000
     },
     "inputWidgets": {},
     "nuid": "cfb4012a-b687-4913-be25-3080d880d9a1",
     "showTitle": false,
     "title": ""
    }
   },
   "outputs": [
    {
     "output_type": "display_data",
     "data": {
      "text/html": [
       "<style scoped>\n",
       "  .table-result-container {\n",
       "    max-height: 300px;\n",
       "    overflow: auto;\n",
       "  }\n",
       "  table, th, td {\n",
       "    border: 1px solid black;\n",
       "    border-collapse: collapse;\n",
       "  }\n",
       "  th, td {\n",
       "    padding: 5px;\n",
       "  }\n",
       "  th {\n",
       "    text-align: left;\n",
       "  }\n",
       "</style><div class='table-result-container'><table class='table-result'><thead style='background-color: white'><tr><th>path</th><th>name</th><th>size</th><th>modificationTime</th></tr></thead><tbody><tr><td>dbfs:/user/sandhyarani.chinnala@celebaltech.com/dbacademy/spark_programming/asp_1_4_reader_writer/delta/events/_delta_log/</td><td>_delta_log/</td><td>0</td><td>1688119442000</td></tr><tr><td>dbfs:/user/sandhyarani.chinnala@celebaltech.com/dbacademy/spark_programming/asp_1_4_reader_writer/delta/events/part-00000-0a71923a-59a7-4d94-b24d-8cfb47f9e59c-c000.snappy.parquet</td><td>part-00000-0a71923a-59a7-4d94-b24d-8cfb47f9e59c-c000.snappy.parquet</td><td>4056933</td><td>1688119446000</td></tr><tr><td>dbfs:/user/sandhyarani.chinnala@celebaltech.com/dbacademy/spark_programming/asp_1_4_reader_writer/delta/events/part-00001-33b5a54d-4fc6-445b-8971-cdb71c15e719-c000.snappy.parquet</td><td>part-00001-33b5a54d-4fc6-445b-8971-cdb71c15e719-c000.snappy.parquet</td><td>4083948</td><td>1688119446000</td></tr><tr><td>dbfs:/user/sandhyarani.chinnala@celebaltech.com/dbacademy/spark_programming/asp_1_4_reader_writer/delta/events/part-00002-fa8bb6f7-59ef-432e-8b81-89114da5bc74-c000.snappy.parquet</td><td>part-00002-fa8bb6f7-59ef-432e-8b81-89114da5bc74-c000.snappy.parquet</td><td>4071485</td><td>1688119446000</td></tr><tr><td>dbfs:/user/sandhyarani.chinnala@celebaltech.com/dbacademy/spark_programming/asp_1_4_reader_writer/delta/events/part-00003-7b72bc50-fcb1-4869-a195-b498fa74886d-c000.snappy.parquet</td><td>part-00003-7b72bc50-fcb1-4869-a195-b498fa74886d-c000.snappy.parquet</td><td>3572832</td><td>1688119446000</td></tr></tbody></table></div>"
      ]
     },
     "metadata": {
      "application/vnd.databricks.v1+output": {
       "addedWidgets": {},
       "aggData": [],
       "aggError": "",
       "aggOverflow": false,
       "aggSchema": [],
       "aggSeriesLimitReached": false,
       "aggType": "",
       "arguments": {},
       "columnCustomDisplayInfos": {},
       "data": [
        [
         "dbfs:/user/sandhyarani.chinnala@celebaltech.com/dbacademy/spark_programming/asp_1_4_reader_writer/delta/events/_delta_log/",
         "_delta_log/",
         0,
         1688119442000
        ],
        [
         "dbfs:/user/sandhyarani.chinnala@celebaltech.com/dbacademy/spark_programming/asp_1_4_reader_writer/delta/events/part-00000-0a71923a-59a7-4d94-b24d-8cfb47f9e59c-c000.snappy.parquet",
         "part-00000-0a71923a-59a7-4d94-b24d-8cfb47f9e59c-c000.snappy.parquet",
         4056933,
         1688119446000
        ],
        [
         "dbfs:/user/sandhyarani.chinnala@celebaltech.com/dbacademy/spark_programming/asp_1_4_reader_writer/delta/events/part-00001-33b5a54d-4fc6-445b-8971-cdb71c15e719-c000.snappy.parquet",
         "part-00001-33b5a54d-4fc6-445b-8971-cdb71c15e719-c000.snappy.parquet",
         4083948,
         1688119446000
        ],
        [
         "dbfs:/user/sandhyarani.chinnala@celebaltech.com/dbacademy/spark_programming/asp_1_4_reader_writer/delta/events/part-00002-fa8bb6f7-59ef-432e-8b81-89114da5bc74-c000.snappy.parquet",
         "part-00002-fa8bb6f7-59ef-432e-8b81-89114da5bc74-c000.snappy.parquet",
         4071485,
         1688119446000
        ],
        [
         "dbfs:/user/sandhyarani.chinnala@celebaltech.com/dbacademy/spark_programming/asp_1_4_reader_writer/delta/events/part-00003-7b72bc50-fcb1-4869-a195-b498fa74886d-c000.snappy.parquet",
         "part-00003-7b72bc50-fcb1-4869-a195-b498fa74886d-c000.snappy.parquet",
         3572832,
         1688119446000
        ]
       ],
       "datasetInfos": [],
       "dbfsResultPath": null,
       "isJsonSchema": true,
       "metadata": {},
       "overflow": false,
       "plotOptions": {
        "customPlotOptions": {},
        "displayType": "table",
        "pivotAggregation": null,
        "pivotColumns": null,
        "xColumns": null,
        "yColumns": null
       },
       "removedWidgets": [],
       "schema": [
        {
         "metadata": "{}",
         "name": "path",
         "type": "\"string\""
        },
        {
         "metadata": "{}",
         "name": "name",
         "type": "\"string\""
        },
        {
         "metadata": "{}",
         "name": "size",
         "type": "\"long\""
        },
        {
         "metadata": "{}",
         "name": "modificationTime",
         "type": "\"long\""
        }
       ],
       "type": "table"
      }
     },
     "output_type": "display_data"
    }
   ],
   "source": [
    "display(dbutils.fs.ls(eventsOutputPath))"
   ]
  },
  {
   "cell_type": "markdown",
   "metadata": {
    "application/vnd.databricks.v1+cell": {
     "cellMetadata": {},
     "inputWidgets": {},
     "nuid": "9f9c31f4-5bd3-4ef7-ad78-203c3acd873e",
     "showTitle": false,
     "title": ""
    }
   },
   "source": [
    "# Ingesting Data Lab\n",
    "\n",
    "Read in CSV files containing products data.\n",
    "\n",
    "##### Tasks\n",
    "1. Read with infer schema\n",
    "2. Read with user-defined schema\n",
    "3. Read with schema as DDL formatted string\n",
    "4. Write using Delta format"
   ]
  },
  {
   "cell_type": "markdown",
   "metadata": {
    "application/vnd.databricks.v1+cell": {
     "cellMetadata": {},
     "inputWidgets": {},
     "nuid": "288e6c7e-1ad1-4db5-89d0-cfb06040c87c",
     "showTitle": false,
     "title": ""
    }
   },
   "source": [
    "### 1. Read with infer schema\n",
    "- View the first CSV file using DBUtils method `fs.head` with the filepath provided in the variable `singleProductCsvFilePath`\n",
    "- Create `productsDF` by reading from CSV files located in the filepath provided in the variable `productsCsvPath`\n",
    "  - Configure options to use first line as header and infer schema"
   ]
  },
  {
   "cell_type": "code",
   "execution_count": 0,
   "metadata": {
    "application/vnd.databricks.v1+cell": {
     "cellMetadata": {
      "byteLimit": 2048000,
      "rowLimit": 10000
     },
     "inputWidgets": {},
     "nuid": "387388e5-68ef-492b-8d08-516508b0c1e3",
     "showTitle": false,
     "title": ""
    }
   },
   "outputs": [
    {
     "output_type": "stream",
     "name": "stdout",
     "output_type": "stream",
     "text": [
      "item_id,name,price\nM_PREM_Q,Premium Queen Mattress,1795.0\nM_STAN_F,Standard Full Mattress,945.0\nM_PREM_F,Premium Full Mattress,1695.0\n\nroot\n |-- item_id: string (nullable = true)\n |-- name: string (nullable = true)\n |-- price: double (nullable = true)\n\n"
     ]
    }
   ],
   "source": [
    "singleProductCsvFilePath = \"/mnt/training/ecommerce/products/products.csv/part-00000-tid-1663954264736839188-daf30e86-5967-4173-b9ae-d1481d3506db-2367-1-c000.csv\"\n",
    "\n",
    "print(dbutils.fs.head(singleProductCsvFilePath))\n",
    "\n",
    "productsCsvPath = \"/mnt/training/ecommerce/products/products.csv\"\n",
    "\n",
    "productsDF = spark.read.option('inferSchema', True).option('header', True).csv(productsCsvPath)\n",
    "\n",
    "productsDF.printSchema()"
   ]
  },
  {
   "cell_type": "markdown",
   "metadata": {
    "application/vnd.databricks.v1+cell": {
     "cellMetadata": {},
     "inputWidgets": {},
     "nuid": "2a13d3d6-7431-400d-b359-9b74a3fd6602",
     "showTitle": false,
     "title": ""
    }
   },
   "source": [
    "**CHECK YOUR WORK**"
   ]
  },
  {
   "cell_type": "code",
   "execution_count": 0,
   "metadata": {
    "application/vnd.databricks.v1+cell": {
     "cellMetadata": {
      "byteLimit": 2048000,
      "rowLimit": 10000
     },
     "inputWidgets": {},
     "nuid": "1293d2e7-26a1-4e89-956a-d7b4a671da45",
     "showTitle": false,
     "title": ""
    }
   },
   "outputs": [],
   "source": [
    "assert(productsDF.count() == 12)"
   ]
  },
  {
   "cell_type": "markdown",
   "metadata": {
    "application/vnd.databricks.v1+cell": {
     "cellMetadata": {},
     "inputWidgets": {},
     "nuid": "9aea18b8-3255-44cb-b32a-117949605eab",
     "showTitle": false,
     "title": ""
    }
   },
   "source": [
    "### 2. Read with user-defined schema\n",
    "Define schema by creating a `StructType` with column names and data types"
   ]
  },
  {
   "cell_type": "code",
   "execution_count": 0,
   "metadata": {
    "application/vnd.databricks.v1+cell": {
     "cellMetadata": {
      "byteLimit": 2048000,
      "rowLimit": 10000
     },
     "inputWidgets": {},
     "nuid": "31d02549-fc14-4114-a5eb-1fb290d23e3c",
     "showTitle": false,
     "title": ""
    }
   },
   "outputs": [],
   "source": [
    "from pyspark.sql.types import *\n",
    "\n",
    "userDefinedSchema = StructType([\n",
    "  StructField(\"item_id\", StringType(), True),\n",
    "  StructField(\"name\", StringType(), True),\n",
    "  StructField(\"price\", DoubleType(), True),\n",
    "])\n",
    "\n",
    "productsDF2 = (spark\n",
    "               .read\n",
    "               .option(\"header\", True)\n",
    "               .schema(userDefinedSchema)\n",
    "               .csv(productsCsvPath)\n",
    ")"
   ]
  },
  {
   "cell_type": "code",
   "execution_count": 0,
   "metadata": {
    "application/vnd.databricks.v1+cell": {
     "cellMetadata": {
      "byteLimit": 2048000,
      "rowLimit": 10000
     },
     "inputWidgets": {},
     "nuid": "8c6dd9ef-fade-464e-ada9-2f5cc822fd00",
     "showTitle": false,
     "title": ""
    }
   },
   "outputs": [
    {
     "output_type": "display_data",
     "data": {
      "text/html": [
       "<style scoped>\n",
       "  .table-result-container {\n",
       "    max-height: 300px;\n",
       "    overflow: auto;\n",
       "  }\n",
       "  table, th, td {\n",
       "    border: 1px solid black;\n",
       "    border-collapse: collapse;\n",
       "  }\n",
       "  th, td {\n",
       "    padding: 5px;\n",
       "  }\n",
       "  th {\n",
       "    text-align: left;\n",
       "  }\n",
       "</style><div class='table-result-container'><table class='table-result'><thead style='background-color: white'><tr><th>item_id</th><th>name</th><th>price</th></tr></thead><tbody><tr><td>M_STAN_Q</td><td>Standard Queen Mattress</td><td>1045.0</td></tr><tr><td>M_STAN_K</td><td>Standard King Mattress</td><td>1195.0</td></tr><tr><td>M_STAN_T</td><td>Standard Twin Mattress</td><td>595.0</td></tr><tr><td>M_PREM_Q</td><td>Premium Queen Mattress</td><td>1795.0</td></tr><tr><td>M_STAN_F</td><td>Standard Full Mattress</td><td>945.0</td></tr><tr><td>M_PREM_F</td><td>Premium Full Mattress</td><td>1695.0</td></tr><tr><td>M_PREM_T</td><td>Premium Twin Mattress</td><td>1095.0</td></tr><tr><td>M_PREM_K</td><td>Premium King Mattress</td><td>1995.0</td></tr><tr><td>P_DOWN_S</td><td>Standard Down Pillow</td><td>119.0</td></tr><tr><td>P_FOAM_S</td><td>Standard Foam Pillow</td><td>59.0</td></tr><tr><td>P_FOAM_K</td><td>King Foam Pillow</td><td>79.0</td></tr><tr><td>P_DOWN_K</td><td>King Down Pillow</td><td>159.0</td></tr></tbody></table></div>"
      ]
     },
     "metadata": {
      "application/vnd.databricks.v1+output": {
       "addedWidgets": {},
       "aggData": [],
       "aggError": "",
       "aggOverflow": false,
       "aggSchema": [],
       "aggSeriesLimitReached": false,
       "aggType": "",
       "arguments": {},
       "columnCustomDisplayInfos": {},
       "data": [
        [
         "M_STAN_Q",
         "Standard Queen Mattress",
         1045.0
        ],
        [
         "M_STAN_K",
         "Standard King Mattress",
         1195.0
        ],
        [
         "M_STAN_T",
         "Standard Twin Mattress",
         595.0
        ],
        [
         "M_PREM_Q",
         "Premium Queen Mattress",
         1795.0
        ],
        [
         "M_STAN_F",
         "Standard Full Mattress",
         945.0
        ],
        [
         "M_PREM_F",
         "Premium Full Mattress",
         1695.0
        ],
        [
         "M_PREM_T",
         "Premium Twin Mattress",
         1095.0
        ],
        [
         "M_PREM_K",
         "Premium King Mattress",
         1995.0
        ],
        [
         "P_DOWN_S",
         "Standard Down Pillow",
         119.0
        ],
        [
         "P_FOAM_S",
         "Standard Foam Pillow",
         59.0
        ],
        [
         "P_FOAM_K",
         "King Foam Pillow",
         79.0
        ],
        [
         "P_DOWN_K",
         "King Down Pillow",
         159.0
        ]
       ],
       "datasetInfos": [],
       "dbfsResultPath": null,
       "isJsonSchema": true,
       "metadata": {},
       "overflow": false,
       "plotOptions": {
        "customPlotOptions": {},
        "displayType": "table",
        "pivotAggregation": null,
        "pivotColumns": null,
        "xColumns": null,
        "yColumns": null
       },
       "removedWidgets": [],
       "schema": [
        {
         "metadata": "{}",
         "name": "item_id",
         "type": "\"string\""
        },
        {
         "metadata": "{}",
         "name": "name",
         "type": "\"string\""
        },
        {
         "metadata": "{}",
         "name": "price",
         "type": "\"double\""
        }
       ],
       "type": "table"
      }
     },
     "output_type": "display_data"
    }
   ],
   "source": [
    "display(productsDF2)"
   ]
  },
  {
   "cell_type": "markdown",
   "metadata": {
    "application/vnd.databricks.v1+cell": {
     "cellMetadata": {},
     "inputWidgets": {},
     "nuid": "3172b93d-14cc-4a5e-9e95-3e6b6fb0d43d",
     "showTitle": false,
     "title": ""
    }
   },
   "source": [
    "**CHECK YOUR WORK**"
   ]
  },
  {
   "cell_type": "code",
   "execution_count": 0,
   "metadata": {
    "application/vnd.databricks.v1+cell": {
     "cellMetadata": {
      "byteLimit": 2048000,
      "rowLimit": 10000
     },
     "inputWidgets": {},
     "nuid": "3b2ca039-f628-4066-beec-42a2b55fc3b1",
     "showTitle": false,
     "title": ""
    }
   },
   "outputs": [],
   "source": [
    "assert(userDefinedSchema.fieldNames() == [\"item_id\", \"name\", \"price\"])"
   ]
  },
  {
   "cell_type": "code",
   "execution_count": 0,
   "metadata": {
    "application/vnd.databricks.v1+cell": {
     "cellMetadata": {
      "byteLimit": 2048000,
      "rowLimit": 10000
     },
     "inputWidgets": {},
     "nuid": "b18c4ddc-a81b-4e13-b063-090eaa70ee20",
     "showTitle": false,
     "title": ""
    }
   },
   "outputs": [],
   "source": [
    "from pyspark.sql import Row\n",
    "\n",
    "expected1 = Row(item_id=\"M_STAN_Q\", name=\"Standard Queen Mattress\", price=1045.0)\n",
    "result1 = productsDF2.first()\n",
    "\n",
    "assert(expected1 == result1)"
   ]
  },
  {
   "cell_type": "markdown",
   "metadata": {
    "application/vnd.databricks.v1+cell": {
     "cellMetadata": {},
     "inputWidgets": {},
     "nuid": "10c8ed42-b64f-4b33-9e3f-f04a8158f9e7",
     "showTitle": false,
     "title": ""
    }
   },
   "source": [
    "### 3. Read with DDL formatted string"
   ]
  },
  {
   "cell_type": "code",
   "execution_count": 0,
   "metadata": {
    "application/vnd.databricks.v1+cell": {
     "cellMetadata": {
      "byteLimit": 2048000,
      "rowLimit": 10000
     },
     "inputWidgets": {},
     "nuid": "07ce31da-508f-4b62-88fa-a7870a61150c",
     "showTitle": false,
     "title": ""
    }
   },
   "outputs": [],
   "source": [
    "# DDLSchema = \"user_id string, user_first_touch_timestamp long, email string\"\n",
    "\n",
    "\n",
    "DDLSchema = \"item_id string , name string , price double\"\n",
    "\n",
    "productsDF3 = (spark\n",
    "               .read\n",
    "               .option('sep', '\\t')\n",
    "               .option('header', True)\n",
    "               .schema(DDLSchema)\n",
    "               .csv(productsCsvPath)\n",
    ")"
   ]
  },
  {
   "cell_type": "code",
   "execution_count": 0,
   "metadata": {
    "application/vnd.databricks.v1+cell": {
     "cellMetadata": {
      "byteLimit": 2048000,
      "rowLimit": 10000
     },
     "inputWidgets": {},
     "nuid": "6f369231-785d-45d7-8e89-1cf5de0e7bc9",
     "showTitle": false,
     "title": ""
    }
   },
   "outputs": [
    {
     "output_type": "stream",
     "name": "stdout",
     "output_type": "stream",
     "text": [
      "+--------------------+----+-----+\n|             item_id|name|price|\n+--------------------+----+-----+\n|M_STAN_Q,Standard...|null| null|\n|M_STAN_K,Standard...|null| null|\n|M_STAN_T,Standard...|null| null|\n|M_PREM_Q,Premium ...|null| null|\n|M_STAN_F,Standard...|null| null|\n|M_PREM_F,Premium ...|null| null|\n|M_PREM_T,Premium ...|null| null|\n|M_PREM_K,Premium ...|null| null|\n|P_DOWN_S,Standard...|null| null|\n|P_FOAM_S,Standard...|null| null|\n|P_FOAM_K,King Foa...|null| null|\n|P_DOWN_K,King Dow...|null| null|\n+--------------------+----+-----+\n\n"
     ]
    }
   ],
   "source": [
    "productsDF3.show()"
   ]
  },
  {
   "cell_type": "markdown",
   "metadata": {
    "application/vnd.databricks.v1+cell": {
     "cellMetadata": {},
     "inputWidgets": {},
     "nuid": "c80ff38d-1f84-4acf-8f4e-2ebc015ad0ac",
     "showTitle": false,
     "title": ""
    }
   },
   "source": [
    "**CHECK YOUR WORK**"
   ]
  },
  {
   "cell_type": "code",
   "execution_count": 0,
   "metadata": {
    "application/vnd.databricks.v1+cell": {
     "cellMetadata": {
      "byteLimit": 2048000,
      "rowLimit": 10000
     },
     "inputWidgets": {},
     "nuid": "ce80b442-0571-4836-9f73-156ec890d1f7",
     "showTitle": false,
     "title": ""
    }
   },
   "outputs": [],
   "source": [
    "assert(productsDF3.count() == 12)"
   ]
  },
  {
   "cell_type": "markdown",
   "metadata": {
    "application/vnd.databricks.v1+cell": {
     "cellMetadata": {},
     "inputWidgets": {},
     "nuid": "5420eacb-db65-46f0-ab10-6e1355e61ee2",
     "showTitle": false,
     "title": ""
    }
   },
   "source": [
    "### 4. Write to Delta\n",
    "Write `productsDF` to the filepath provided in the variable `productsOutputPath`"
   ]
  },
  {
   "cell_type": "code",
   "execution_count": 0,
   "metadata": {
    "application/vnd.databricks.v1+cell": {
     "cellMetadata": {
      "byteLimit": 2048000,
      "rowLimit": 10000
     },
     "inputWidgets": {},
     "nuid": "ea603b15-8b94-412d-ad71-ba8c8acbda24",
     "showTitle": false,
     "title": ""
    }
   },
   "outputs": [],
   "source": [
    "productsOutputPath = workingDir + \"/delta/products\"\n",
    "(productsDF\n",
    "  .write\n",
    "  .format('delta')\n",
    "  .mode('overwrite')\n",
    "  .save(productsOutputPath)\n",
    ")"
   ]
  },
  {
   "cell_type": "markdown",
   "metadata": {
    "application/vnd.databricks.v1+cell": {
     "cellMetadata": {},
     "inputWidgets": {},
     "nuid": "1fb1c2a1-e6f1-4dc2-8f28-8fc2dcbc4ccd",
     "showTitle": false,
     "title": ""
    }
   },
   "source": [
    "**CHECK YOUR WORK**"
   ]
  },
  {
   "cell_type": "code",
   "execution_count": 0,
   "metadata": {
    "application/vnd.databricks.v1+cell": {
     "cellMetadata": {
      "byteLimit": 2048000,
      "rowLimit": 10000
     },
     "inputWidgets": {},
     "nuid": "5d5c0db8-46fb-4ac0-90b1-64e565eb94f1",
     "showTitle": false,
     "title": ""
    }
   },
   "outputs": [],
   "source": [
    "verify_files = dbutils.fs.ls(productsOutputPath)\n",
    "verify_delta_format = False\n",
    "verify_num_data_files = 0\n",
    "for f in verify_files:\n",
    "    if f.name == '_delta_log/':\n",
    "        verify_delta_format = True\n",
    "    elif f.name.endswith('.parquet'):\n",
    "        verify_num_data_files += 1\n",
    "\n",
    "assert verify_delta_format, \"Data not written in Delta format\"\n",
    "assert verify_num_data_files > 0, \"No data written\"\n",
    "del verify_files, verify_delta_format, verify_num_data_files"
   ]
  },
  {
   "cell_type": "markdown",
   "metadata": {
    "application/vnd.databricks.v1+cell": {
     "cellMetadata": {},
     "inputWidgets": {},
     "nuid": "49f9c77d-751e-4a3c-bb32-b6fb1d696aca",
     "showTitle": false,
     "title": ""
    }
   },
   "source": [
    "### Clean up classroom"
   ]
  },
  {
   "cell_type": "code",
   "execution_count": 0,
   "metadata": {
    "application/vnd.databricks.v1+cell": {
     "cellMetadata": {},
     "inputWidgets": {},
     "nuid": "77d455d6-fb9d-4b5e-9def-fe21eb4198cb",
     "showTitle": false,
     "title": ""
    }
   },
   "outputs": [],
   "source": [
    "%run ./Includes/Classroom-Cleanup"
   ]
  },
  {
   "cell_type": "markdown",
   "metadata": {
    "application/vnd.databricks.v1+cell": {
     "cellMetadata": {},
     "inputWidgets": {},
     "nuid": "ce9f9a7d-dcbd-4a3f-915e-912c6a83bdb3",
     "showTitle": false,
     "title": ""
    }
   },
   "source": [
    "-sandbox\n",
    "&copy; 2022 Databricks, Inc. All rights reserved.<br/>\n",
    "Apache, Apache Spark, Spark and the Spark logo are trademarks of the <a href=\"https://www.apache.org/\">Apache Software Foundation</a>.<br/>\n",
    "<br/>\n",
    "<a href=\"https://databricks.com/privacy-policy\">Privacy Policy</a> | <a href=\"https://databricks.com/terms-of-use\">Terms of Use</a> | <a href=\"https://help.databricks.com/\">Support</a>"
   ]
  }
 ],
 "metadata": {
  "application/vnd.databricks.v1+notebook": {
   "dashboards": [],
   "language": "python",
   "notebookMetadata": {
    "pythonIndentUnit": 2
   },
   "notebookName": "ASP 1.4 - Reader & Writer",
   "widgets": {}
  }
 },
 "nbformat": 4,
 "nbformat_minor": 0
}
